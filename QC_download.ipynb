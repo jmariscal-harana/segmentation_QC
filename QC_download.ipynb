{
 "cells": [
  {
   "cell_type": "code",
   "execution_count": null,
   "metadata": {},
   "outputs": [],
   "source": [
    "# 1. Please provide a path to the root folder. All scripts and files will be downloaded here.\n",
    "path_root = '/Users/jorge/PostDoc/Scripts/QC_empty/'\n",
    "\n",
    "# 2. Run this cell and the following ones by pressing the \"Run\" bottom above (or Shift+Enter)\n",
    "initialisation_bool = False\n"
   ]
  },
  {
   "cell_type": "code",
   "execution_count": null,
   "metadata": {},
   "outputs": [],
   "source": [
    "import os\n",
    "\n",
    "if initialisation_bool == False:    \n",
    "    !pip install numpy pandas matplotlib\n",
    "    \n",
    "    assert os.path.exists(path_root), \"The path provided does not exist. Please check: %r\" % path_root\n",
    "    os.chdir(path_root)\n",
    "\n",
    "    # !git clone https://github.com/jmariscal-harana/segmentation_QC\n",
    "    # print('Download complete! You may close this script now.')\n",
    "    # initialisation_bool = True"
   ]
  }
 ],
 "metadata": {
  "kernelspec": {
   "name": "python3",
   "display_name": "Python 3.6.12 64-bit ('QC_empty': conda)",
   "metadata": {
    "interpreter": {
     "hash": "f515902ff61024597d4f185c8ede1bfd87fcb70e2351cd3289efee6b1a7a3868"
    }
   }
  },
  "language_info": {
   "codemirror_mode": {
    "name": "ipython",
    "version": 3
   },
   "file_extension": ".py",
   "mimetype": "text/x-python",
   "name": "python",
   "nbconvert_exporter": "python",
   "pygments_lexer": "ipython3",
   "version": "3.6.12-final"
  }
 },
 "nbformat": 4,
 "nbformat_minor": 2
}